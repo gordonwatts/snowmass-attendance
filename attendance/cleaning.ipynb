{
 "cells": [
  {
   "cell_type": "markdown",
   "metadata": {},
   "source": [
    "# Data Cleaning\n",
    "\n",
    "For some of this work we need to clean or aggragate the data. People entered a lot of details - which is amazing - but we don't want to look at per-person responses as much as in aggregate. This page describes what we did to clean up the survey responses.\n",
    "\n",
    "This notebook loads in the raw data, and writes out a new file that can be loaded \"at will\" with \"clean\" data by all the other notebooks."
   ]
  },
  {
   "cell_type": "code",
   "execution_count": 36,
   "metadata": {},
   "outputs": [],
   "source": [
    "import pandas as pd\n",
    "import numpy as np\n",
    "\n",
    "raw_survey = pd.read_csv('/workspaces/snowmass-attendance/survey.csv')"
   ]
  },
  {
   "cell_type": "markdown",
   "metadata": {},
   "source": [
    "## Time\n",
    "\n",
    "Convert the time the person filled out the survey into something that is a time object."
   ]
  },
  {
   "cell_type": "code",
   "execution_count": 37,
   "metadata": {},
   "outputs": [],
   "source": [
    "time_col = pd.to_datetime(raw_survey[\"Timestamp\"])\n",
    "survey = pd.DataFrame(time_col).rename(columns={\"Timestamp\": \"time\"})\n",
    "survey[\"time\"] = pd.to_datetime(raw_survey[\"Timestamp\"])"
   ]
  },
  {
   "cell_type": "markdown",
   "metadata": {},
   "source": [
    "## Employed By\n",
    "\n",
    "Here is a list of what people answered for how they were employed. People entered a lot of different things - below is how we mapped everyone. Some of the choices were... guesses. Hopefully they do not affect things too much."
   ]
  },
  {
   "cell_type": "code",
   "execution_count": 38,
   "metadata": {},
   "outputs": [
    {
     "data": {
      "text/plain": [
       "'nan,US National Lab,US University,Italian National Institute,International university ,TRIUMF,Perfer not to answer,International University,Non-US institution,European university,EU Lab,Spanish Research Council (CSIC),INFN (Italy),European Lab,research institute in Eastern Europe,Italian University,European lab,CERN,German University,Other country,University in Canada,Research laboratory in Germany.,UK University,European National lab,retired,INFN,Istituto Nazionale di Fisica Nucleare (INFN), Italy,Lund University,University,overseas university,retired faculty,employeed by national lab, grad student at a US university,non US,Canadian research institute,Università degli Studi di Padova,Canada University,Research institute,Canadian university (and, btw, \"perfer\" is not a word ...),Foreign Lab,Small Liberal Arts  College,Ukrainian university (Main Astronomical Observatory of NAS Ukraine),foreign lab,non-US lab,Foreign University,a European national insitution,Korean University ,EU university,EU Research center,European institution,Non-US university (University of ICeland),University outside US,non-US University,The University of Torino,Non US University (Colombia),UK university,INFN, Italy,Industry,University of Granada (Spain),University of Medellin,CSIC (Spain),Indian University,National Lab outside US,Brazilian University,German research institute,European Institution,US College,UT Austin,NASA,Joint Italian and US university,University in Europe ,European University,Department of Atomic Energy, India,Retired from US University,Canadian university,Swiss University,Small business,kIAS,Sultan Qaboos University (Oman),non-US university,Uk institution,Cairo university, Egypt,Canadian University ,US DOE-funded laboratory (not formally a US National Lab),US Liberal-Arts College (if \"university\" was meant to encompass this, feel free to log my response as such, but liberal-arts-college faculty probably would not use that terminology),Japanese University,International university,Business,EU National Research Institute,Saha Institute of Nuclear Physics , kolkata, India,Research institution in Canada,former employee of US Nat Lab,CNRS,German National Lab,Institute of High Energy Physics, Chinese Academy of Sciences,Italian Institution,INFN - Italy,Foreign university,FEI University at SBC São Paulo, Brazil,Swiss and French pensioner would be on CERN mission,South Korea University,actually, I am retired,Non-US University,Dutch university,French Lab, previously working in the US,Retired,EU University,EU institution,Overseas university,A foreign university full time and a US University as a part time ,emeritus,both lab and university,US National Lab (ret\\'d),Employed abroad in a National Lab,Canadian University,I am a self-funded PhD researcher so not employed.,University&Laboratory'"
      ]
     },
     "execution_count": 38,
     "metadata": {},
     "output_type": "execute_result"
    }
   ],
   "source": [
    "c_employed_by_name = \"I'm employed by\"\n",
    "','.join(list((str(i) for i in raw_survey[c_employed_by_name].unique())))"
   ]
  },
  {
   "cell_type": "code",
   "execution_count": 39,
   "metadata": {},
   "outputs": [],
   "source": [
    "employted_by_t = {\n",
    " 'US National Lab': 'US National Lab',\n",
    " 'US University': 'US University',\n",
    " 'Italian National Institute' : \"non-EU\",\n",
    " 'International university ' : \"non-EU\",\n",
    " 'TRIUMF': \"Canada\",\n",
    " 'Perfer not to answer': \"Unknown\",\n",
    " 'International University': \"EU\",\n",
    " 'Non-US institution': \"EU\",\n",
    " 'European university': \"EU\",\n",
    " 'EU Lab': \"EU\",\n",
    " 'Spanish Research Council (CSIC)': \"EU\",\n",
    " 'INFN (Italy)': \"EU\",\n",
    " 'European Lab': \"EU\",\n",
    " 'research institute in Eastern Europe': \"EU\",\n",
    " 'Italian University': \"EU\",\n",
    " 'European lab': \"EU\",\n",
    " 'CERN': \"EU\",\n",
    " 'German University': \"EU\",\n",
    " 'Other country': \"non-EU\",\n",
    " 'University in Canada': \"Canada\",\n",
    " 'Research laboratory in Germany.': \"EU\",\n",
    " 'UK University': \"EU\",\n",
    " 'European National lab': \"EU\",\n",
    " 'retired': \"Unknown\",\n",
    " 'INFN': \"EU\",\n",
    " 'Istituto Nazionale di Fisica Nucleare (INFN), Italy': \"EU\",\n",
    " 'Lund University': \"EU\",\n",
    " 'University': \"EU\",\n",
    " 'overseas university': \"EU\",\n",
    " 'retired faculty': \"Unknown\",\n",
    " 'employeed by national lab, grad student at a US university': \"US National Lab\",\n",
    " 'non US': \"EU\",\n",
    " 'Canadian research institute': \"Canada\",\n",
    " 'Università degli Studi di Padova': \"EU\",\n",
    " 'Canada University': \"Canada\",\n",
    " 'Research institute': \"EU\",\n",
    " 'Canadian university (and, btw, \"perfer\" is not a word ...)': \"Canada\",\n",
    " 'Foreign Lab': \"EU\",\n",
    " 'Small Liberal Arts  College': \"US University\",\n",
    " 'Ukrainian university (Main Astronomical Observatory of NAS Ukraine)': \"non-EU\",\n",
    " 'foreign lab': \"EU\",\n",
    " 'non-US lab': \"EU\",\n",
    " 'Foreign University': \"EU\",\n",
    " 'a European national insitution': \"EU\",\n",
    " 'Korean University ': \"non-EU\",\n",
    " 'EU university': \"EU\",\n",
    " 'EU Research center': \"EU\",\n",
    " 'European institution': \"EU\",\n",
    " 'Non-US university (University of ICeland)': \"non-EU\",\n",
    " 'University outside US': \"EU\",\n",
    " 'non-US University': \"EU\",\n",
    " 'The University of Torino': \"EU\",\n",
    " 'Non US University (Colombia)': \"non-EU\",\n",
    " 'UK university': \"EU\",\n",
    " 'INFN, Italy': \"EU\",\n",
    " 'Industry': \"Industry\",\n",
    " 'University of Granada (Spain)': \"EU\",\n",
    " 'University of Medellin': \"EU\",\n",
    " 'CSIC (Spain)': \"EU\",\n",
    " 'Indian University': \"non-EU\",\n",
    " 'National Lab outside US': \"EU\",\n",
    " 'Brazilian University': \"non-EU\",\n",
    " 'German research institute': \"EU\",\n",
    " 'European Institution': \"EU\",\n",
    " 'US College': \"US University\",\n",
    " 'UT Austin': \"US University\",\n",
    " 'NASA': \"US National Lab\",\n",
    " 'Joint Italian and US university': \"EU\",\n",
    " 'University in Europe ': \"EU\",\n",
    " 'European University': \"EU\",\n",
    " 'Department of Atomic Energy, India': \"non-EU\",\n",
    " 'Retired from US University': \"US University\",\n",
    " 'Canadian university': \"Canada\",\n",
    " 'Swiss University': \"EU\",\n",
    " 'Small business': \"Industry\",\n",
    " 'kIAS': \"non-EU\",\n",
    " 'Sultan Qaboos University (Oman)': \"non-EU\",\n",
    " 'non-US university': \"EU\",\n",
    " 'Uk institution': \"EU\",\n",
    " 'Cairo university, Egypt': \"non-EU\",\n",
    " 'Canadian University ': \"Canada\",\n",
    " 'US DOE-funded laboratory (not formally a US National Lab)': \"US National Lab\",\n",
    " 'US Liberal-Arts College (if \"university\" was meant to encompass this, feel free to log my response as such, but liberal-arts-college faculty probably would not use that terminology)': \"US University\",\n",
    " 'Japanese University': \"non-EU\",\n",
    " 'International university': \"International\",\n",
    " 'Business': \"Industry\",\n",
    " 'EU National Research Institute': \"EU\",\n",
    " 'Saha Institute of Nuclear Physics , kolkata, India': \"non-EU\",\n",
    " 'Research institution in Canada': \"Canada\",\n",
    " 'former employee of US Nat Lab': \"US National Lab\",\n",
    " 'CNRS': \"EU\",\n",
    " 'German National Lab': \"EU\",\n",
    " 'Institute of High Energy Physics, Chinese Academy of Sciences': \"non-EU\",\n",
    " 'Italian Institution': \"EU\",\n",
    " 'INFN - Italy': \"EU\",\n",
    " 'Foreign university': \"EU\",\n",
    " 'FEI University at SBC São Paulo, Brazil': \"non-EU\",\n",
    " 'Swiss and French pensioner would be on CERN mission': \"EU\",\n",
    " 'South Korea University': \"non-EU\",\n",
    " 'actually, I am retired': \"US University\",\n",
    " 'Non-US University': \"EU\",\n",
    " 'Dutch university': \"EU\",\n",
    " 'French Lab, previously working in the US': \"EU\",\n",
    " 'Retired': \"US University\",\n",
    " 'EU University': \"EU\",\n",
    " 'EU institution': \"EU\",\n",
    " 'Overseas university': \"EU\",\n",
    " 'A foreign university full time and a US University as a part time ': \"US University\",\n",
    " 'emeritus': \"US University\",\n",
    " 'both lab and university': \"US National Lab\",\n",
    " \"US National Lab (ret'd)\": \"US National Lab\",\n",
    " 'Employed abroad in a National Lab': \"EU\",\n",
    " 'Canadian University': \"Canada\",\n",
    " 'I am a self-funded PhD researcher so not employed.': \"Industry\",\n",
    " 'University&Laboratory': \"US University\"\n",
    "}"
   ]
  },
  {
   "cell_type": "code",
   "execution_count": 40,
   "metadata": {},
   "outputs": [],
   "source": [
    "survey[\"employed_by\"] = raw_survey[c_employed_by_name].transform(lambda i: employted_by_t[i] if i == i else 'Unknown')"
   ]
  },
  {
   "cell_type": "code",
   "execution_count": 41,
   "metadata": {},
   "outputs": [
    {
     "data": {
      "text/plain": [
       "'Unknown,US National Lab,US University,non-EU,Canada,EU,Industry,International'"
      ]
     },
     "execution_count": 41,
     "metadata": {},
     "output_type": "execute_result"
    }
   ],
   "source": [
    "','.join(survey.employed_by.unique())"
   ]
  },
  {
   "cell_type": "markdown",
   "metadata": {},
   "source": [
    "## Rank\n",
    "\n",
    "Normalize the rank of the person that replied"
   ]
  },
  {
   "cell_type": "code",
   "execution_count": 42,
   "metadata": {},
   "outputs": [
    {
     "data": {
      "text/plain": [
       "'Post-doc,nan,Professor or Lab Scientist (tenured),Graduate Student,Professor or Lab Scientist (untenured),Research Scientist,Perfer not to answer,Lab fellow,Engineer, Staff, or other non-physicist role,PHD student,Lab management,retired engineer/physicist,retired professor ,Lab Director - Japan,Retired lab scientist,Division Director,retired professor,Retired,Honorary Professor,Emeritus,Scientist Emeritus (Fermilab),Guest Scientist, retired. '"
      ]
     },
     "execution_count": 42,
     "metadata": {},
     "output_type": "execute_result"
    }
   ],
   "source": [
    "c_rank = \"I am a\"\n",
    "','.join(list((str(i) for i in raw_survey[c_rank].unique())))"
   ]
  },
  {
   "cell_type": "code",
   "execution_count": 43,
   "metadata": {},
   "outputs": [],
   "source": [
    "rank_t = {\n",
    " 'Post-doc': \"Post-doc\",\n",
    " 'Professor or Lab Scientist (tenured)': 'Professor or Lab Scientist (tenured)',\n",
    " 'Graduate Student': 'Graduate Student',\n",
    " 'Professor or Lab Scientist (untenured)': 'Professor or Lab Scientist (untenured)',\n",
    " 'Research Scientist': 'Research Scientist',\n",
    " 'Perfer not to answer': 'Unknown',\n",
    " 'Lab fellow': 'Professor or Lab Scientist (untenured)',\n",
    " 'Engineer, Staff, or other non-physicist role': 'Engineer, Staff, or other non-physicist role',\n",
    " 'PHD student': 'Graduate Student',\n",
    " 'Lab management': 'Professor or Lab Scientist (tenured)',\n",
    " 'retired engineer/physicist': 'Professor or Lab Scientist (tenured)',\n",
    " 'retired professor ': 'Professor or Lab Scientist (tenured)',\n",
    " 'Lab Director - Japan': 'Professor or Lab Scientist (tenured)',\n",
    " 'Retired lab scientist': 'Professor or Lab Scientist (tenured)',\n",
    " 'Division Director': 'Professor or Lab Scientist (tenured)',\n",
    " 'retired professor': 'Professor or Lab Scientist (tenured)',\n",
    " 'Retired': 'Professor or Lab Scientist (tenured)',\n",
    " 'Honorary Professor': 'Professor or Lab Scientist (tenured)',\n",
    " 'Emeritus': 'Professor or Lab Scientist (tenured)',\n",
    " 'Scientist Emeritus (Fermilab)': 'Professor or Lab Scientist (tenured)',\n",
    " 'Guest Scientist, retired. ': 'Professor or Lab Scientist (tenured)'\n",
    "}"
   ]
  },
  {
   "cell_type": "code",
   "execution_count": 44,
   "metadata": {},
   "outputs": [],
   "source": [
    "survey[\"job_rank\"] = raw_survey[c_rank].transform(lambda i: rank_t[i] if i == i else 'Unknown')"
   ]
  },
  {
   "cell_type": "code",
   "execution_count": 45,
   "metadata": {},
   "outputs": [
    {
     "data": {
      "text/plain": [
       "'Post-doc,Unknown,Professor or Lab Scientist (tenured),Graduate Student,Professor or Lab Scientist (untenured),Research Scientist,Engineer, Staff, or other non-physicist role'"
      ]
     },
     "execution_count": 45,
     "metadata": {},
     "output_type": "execute_result"
    }
   ],
   "source": [
    "','.join(survey.job_rank.unique())"
   ]
  },
  {
   "cell_type": "markdown",
   "metadata": {},
   "source": [
    "## Attending\n",
    "\n",
    "Would you attend the workshop. While we designed the survey with no options, someone slipped a `Yes` in there, which we need to map back to the other values."
   ]
  },
  {
   "cell_type": "code",
   "execution_count": 46,
   "metadata": {},
   "outputs": [
    {
     "data": {
      "text/plain": [
       "array(['Yes', 'Would attend', 'Might attend', 'Would not attend'],\n",
       "      dtype=object)"
      ]
     },
     "execution_count": 46,
     "metadata": {},
     "output_type": "execute_result"
    }
   ],
   "source": [
    "c_attend = \"Setting aside the COVID, funding, etc issues for the moment, would you attend the Snowmass Summer Workshop in person?\"\n",
    "raw_survey[c_attend].unique()"
   ]
  },
  {
   "cell_type": "code",
   "execution_count": 47,
   "metadata": {},
   "outputs": [],
   "source": [
    "attend_t = {\n",
    "    'Yes': 'Would attend', \n",
    "    'Would attend': 'Would attend', \n",
    "    'Might attend': 'Might attend',\n",
    "    'Would not attend': 'Would not attend'\n",
    "}"
   ]
  },
  {
   "cell_type": "code",
   "execution_count": 48,
   "metadata": {},
   "outputs": [],
   "source": [
    "survey[\"attend\"] = raw_survey[c_attend].transform(lambda i: attend_t[i])"
   ]
  },
  {
   "cell_type": "markdown",
   "metadata": {},
   "source": [
    "## Attendance Feedback\n",
    "\n",
    "The text feedback has to be done as a giant set of text strings, so no cleaning here."
   ]
  },
  {
   "cell_type": "code",
   "execution_count": 49,
   "metadata": {},
   "outputs": [],
   "source": [
    "c_attendance_feedback = \"If you'd like to say a few words to expand on the answer, please do!\"\n",
    "survey[\"attend_feedback\"] = raw_survey[c_attendance_feedback]"
   ]
  },
  {
   "cell_type": "code",
   "execution_count": 50,
   "metadata": {},
   "outputs": [
    {
     "data": {
      "text/plain": [
       "array(['Very worried', 'Might prevent me from attending',\n",
       "       'Likely will prevent me from attending',\n",
       "       'Could attend, but might limit participation', 'Not a concern'],\n",
       "      dtype=object)"
      ]
     },
     "execution_count": 50,
     "metadata": {},
     "output_type": "execute_result"
    }
   ],
   "source": [
    "c_worried_covid = \"Please indicate how worried you are about each issue that might prevent you from attending: [COVID]\"\n",
    "c_worried_funding = \"Please indicate how worried you are about each issue that might prevent you from attending: [Funding]\"\n",
    "c_worried_length = \"Please indicate how worried you are about each issue that might prevent you from attending: [Length of the Workshop]\"\n",
    "c_worried_accessibility = \"Please indicate how worried you are about each issue that might prevent you from attending: [Accessibility/Accommodation]\"\n",
    "c_worried_responsibilities = \"Please indicate how worried you are about each issue that might prevent you from attending: [Competing Responsibilities]\"\n",
    "raw_survey[c_worried_covid].unique()"
   ]
  },
  {
   "cell_type": "code",
   "execution_count": 51,
   "metadata": {},
   "outputs": [],
   "source": [
    "worried_t = {\n",
    "    'Very worried': 1,\n",
    "    'Likely will prevent me from attending': 1,\n",
    "    'Might prevent me from attending': 2,\n",
    "    'Could attend, but might limit participation': 3,\n",
    "    'A little worried': 3,\n",
    "    'Not a concern': 4,\n",
    "    'No Worried': 4,\n",
    "    'Unknown': 5,\n",
    "}"
   ]
  },
  {
   "cell_type": "code",
   "execution_count": 52,
   "metadata": {},
   "outputs": [],
   "source": [
    "survey['worried_covid'] = raw_survey[c_worried_covid].transform(lambda i: worried_t[i])\n",
    "survey['worried_funding'] = raw_survey[c_worried_funding].transform(lambda i: worried_t[i])\n",
    "survey['worried_length'] = raw_survey[c_worried_length].transform(lambda i: worried_t[i])\n",
    "survey['worried_accessibility'] = raw_survey[c_worried_accessibility].transform(lambda i: worried_t[i])\n",
    "survey['worried_responsibilities'] = raw_survey[c_worried_responsibilities].transform(lambda i: worried_t[i] if isinstance(i, str) else 5)\n"
   ]
  },
  {
   "cell_type": "code",
   "execution_count": 53,
   "metadata": {},
   "outputs": [],
   "source": [
    "c_other_issues = \"If there are other issues that concern you that are not listed above, please indicate here!\"\n",
    "survey['attend_other_concerns'] = raw_survey[c_other_issues]"
   ]
  },
  {
   "cell_type": "markdown",
   "metadata": {},
   "source": [
    "## Travel"
   ]
  },
  {
   "cell_type": "code",
   "execution_count": 54,
   "metadata": {},
   "outputs": [],
   "source": [
    "c_travel = \"If I attend Snowmass, I will be traveling\"\n",
    "survey['travel'] = raw_survey[c_travel].transform(lambda v: v if isinstance(v, str) else \"Unknown\")"
   ]
  },
  {
   "cell_type": "markdown",
   "metadata": {},
   "source": [
    "## Management"
   ]
  },
  {
   "cell_type": "code",
   "execution_count": 55,
   "metadata": {},
   "outputs": [],
   "source": [
    "c_management=\"Are you part of the Snowmass Management Team (frontier group or sub-group convener, etc.)?\"\n",
    "raw_survey[c_management].unique()\n",
    "survey['management'] = raw_survey[c_management].transform(lambda v: v if isinstance(v, str) else \"Unknown\")"
   ]
  },
  {
   "cell_type": "markdown",
   "metadata": {},
   "source": [
    "## Dinner\n",
    "\n",
    "No need to convert this - there were no optional values!"
   ]
  },
  {
   "cell_type": "code",
   "execution_count": 56,
   "metadata": {},
   "outputs": [
    {
     "data": {
      "text/plain": [
       "array(['No', 'Yes', 'Maybe'], dtype=object)"
      ]
     },
     "execution_count": 56,
     "metadata": {},
     "output_type": "execute_result"
    }
   ],
   "source": [
    "c_dinner = \"If you attended the conference, would you also attend the dinner?\"\n",
    "raw_survey[c_dinner].unique()"
   ]
  },
  {
   "cell_type": "code",
   "execution_count": 57,
   "metadata": {},
   "outputs": [],
   "source": [
    "survey[\"dinner\"] = raw_survey[c_dinner]"
   ]
  },
  {
   "cell_type": "markdown",
   "metadata": {},
   "source": [
    "## Frontier\n",
    "\n",
    "This is a bit difficult b.c each item is comma separated list, which is not very amenable to manipulation. We will convert to using the abreviations and also to converting it to separate columns."
   ]
  },
  {
   "cell_type": "code",
   "execution_count": 58,
   "metadata": {},
   "outputs": [],
   "source": [
    "c_frontier = \"I primarily am interested in sessions associated with:\"\n",
    "frontier_mapping = {\n",
    "    'Neutrino Frontier': 'NF',\n",
    "    'Energy Frontier': 'EF',\n",
    "    'Rare Processes and Precision Measurements': 'RF',\n",
    "    'Cosmic Frontier': 'CF',\n",
    "    'Theory Frontier': 'TF',\n",
    "    'Accelerator Frontier': 'AF',\n",
    "    'Instrumentation Frontier': 'IF',\n",
    "    'Computational Frontier': \"CompF\",\n",
    "    'Underground Facilities': 'UF',\n",
    "    'Community Engagement': 'CommF'\n",
    "}\n",
    "\n",
    "survey[\"frontier_all\"] = raw_survey[c_frontier].transform(lambda v: np.array([frontier_mapping[f.strip()] for f in v.split(',')]) if isinstance(v, str) else [])"
   ]
  },
  {
   "cell_type": "code",
   "execution_count": 59,
   "metadata": {},
   "outputs": [],
   "source": [
    "for f in frontier_mapping.values():\n",
    "    survey[f'frontier_{f}'] = survey[\"frontier_all\"].apply(lambda v: f in v)"
   ]
  },
  {
   "cell_type": "markdown",
   "metadata": {},
   "source": [
    "## COVID and Attending"
   ]
  },
  {
   "cell_type": "code",
   "execution_count": 60,
   "metadata": {},
   "outputs": [],
   "source": [
    "c_covid = \"The points below are labeled on the case/day plot above. Please indicate the largest USA new case-load/day rate for which you'd be willing to attend Snowmass in person.\"\n",
    "covid_t = {\n",
    "    'Point A': 'A',\n",
    "    'Point B': 'B',\n",
    "    'Point C': 'C',\n",
    "    'Point D': 'D',\n",
    "    'Point E': 'E',\n",
    "    'Poing E': 'E',\n",
    "    'Not com': 'At No Level',\n",
    "    'My inst': 'Travel Restrictions'\n",
    "}\n",
    "survey['covid_comfort'] = raw_survey[c_covid].transform(lambda v: covid_t[v[0:7]])"
   ]
  },
  {
   "cell_type": "code",
   "execution_count": 61,
   "metadata": {},
   "outputs": [],
   "source": [
    "c_covid_comments = \"There is no way to get everyone's full perspective with a multiple choice question like that. Please feel free to add a sentence or so if you wish!\"\n",
    "survey['covid_comments'] = raw_survey[c_covid_comments]"
   ]
  },
  {
   "cell_type": "markdown",
   "metadata": {},
   "source": [
    "## Writing out the file\n",
    "\n",
    "As a WARNING: Never check this in!"
   ]
  },
  {
   "cell_type": "code",
   "execution_count": 62,
   "metadata": {},
   "outputs": [],
   "source": [
    "survey.to_parquet('/workspaces/snowmass-attendance/clean_survey.parquet')"
   ]
  }
 ],
 "metadata": {
  "interpreter": {
   "hash": "c3ecfbb2e518759e8150e3a4e02d9374d8d11351137435699613669ebcf0f527"
  },
  "kernelspec": {
   "display_name": "Python 3.10.2 64-bit",
   "language": "python",
   "name": "python3"
  },
  "language_info": {
   "codemirror_mode": {
    "name": "ipython",
    "version": 3
   },
   "file_extension": ".py",
   "mimetype": "text/x-python",
   "name": "python",
   "nbconvert_exporter": "python",
   "pygments_lexer": "ipython3",
   "version": "3.10.2"
  },
  "orig_nbformat": 4
 },
 "nbformat": 4,
 "nbformat_minor": 2
}
